{
 "cells": [
  {
   "cell_type": "code",
   "execution_count": 9,
   "metadata": {},
   "outputs": [],
   "source": [
    "import pandas as pd\n",
    "import csv\n",
    "import os"
   ]
  },
  {
   "cell_type": "code",
   "execution_count": null,
   "metadata": {},
   "outputs": [],
   "source": [
    "# Generating author in df\n",
    "import uuid\n",
    "\n",
    "df = pd.read_csv(\"csv/df.csv\")\n",
    "\n",
    "author_names = df[\"author\"]\n",
    "\n",
    "author_names = set(author_names)\n",
    "\n",
    "name_id = []\n",
    "\n",
    "for name in author_names:\n",
    "    name_id.append((str(uuid.uuid4()), name))\n",
    "\n",
    "author = pd.DataFrame(name_id, columns =['author_id', 'name'])\n",
    "\n",
    "for index, row in author.iterrows():\n",
    "    name = row[\"name\"]\n",
    "    print(name)\n",
    "    id = row[\"author_id\"]\n",
    "    print(id)\n",
    "    df.loc[df['author'] == name, \"author_id\"] = id\n",
    "\n",
    "# df.to_csv(\"csv/df2.csv\", index=False, quotechar='\"', quoting=csv.QUOTE_NONNUMERIC)\n"
   ]
  },
  {
   "cell_type": "code",
   "execution_count": null,
   "metadata": {},
   "outputs": [],
   "source": [
    "# Generating publisher in df\n",
    "import uuid\n",
    "\n",
    "df = pd.read_csv(\"csv/df.csv\")\n",
    "\n",
    "publisher_names = df[\"publisher\"]\n",
    "\n",
    "publisher_names = set(publisher_names)\n",
    "\n",
    "name_id = []\n",
    "\n",
    "for name in publisher_names:\n",
    "    name_id.append((str(uuid.uuid4()), name))\n",
    "\n",
    "publisher = pd.DataFrame(name_id, columns =['publisher_id', 'name'])\n",
    "\n",
    "for index, row in publisher.iterrows():\n",
    "    name = row[\"name\"]\n",
    "    print(name)\n",
    "    id = row[\"publisher_id\"]\n",
    "    print(id)\n",
    "    df.loc[df['publisher'] == name, \"publisher_id\"] = id\n",
    "\n",
    "# df.to_csv(\"csv/df.csv\", index=False, quotechar='\"', quoting=csv.QUOTE_NONNUMERIC)\n"
   ]
  },
  {
   "cell_type": "code",
   "execution_count": 64,
   "metadata": {},
   "outputs": [],
   "source": [
    "# Creating author, publisher, wrote, published\n",
    "\n",
    "df = pd.read_csv(\"csv/df.csv\")\n",
    "\n",
    "author = df[[\"author_id\",\"author\"]].drop_duplicates()\n",
    "author.to_csv(\"csv/author.csv\", index=False, quotechar='\"', quoting=csv.QUOTE_NONNUMERIC)\n",
    "\n",
    "publisher = df[[\"publisher_id\",\"publisher\"]].drop_duplicates()\n",
    "publisher.to_csv(\"csv/publisher.csv\", index=False, quotechar='\"', quoting=csv.QUOTE_NONNUMERIC)\n",
    "\n",
    "wrote = df[[\"isbn\", \"author_id\"]].drop_duplicates()\n",
    "wrote.to_csv(\"csv/wrote.csv\", index=False, quotechar='\"', quoting=csv.QUOTE_NONNUMERIC)\n",
    "\n",
    "published = df[[\"isbn\", \"publisher_id\"]].drop_duplicates()\n",
    "published.to_csv(\"csv/published.csv\", index=False, quotechar='\"', quoting=csv.QUOTE_NONNUMERIC)\n",
    "\n"
   ]
  }
 ],
 "metadata": {
  "kernelspec": {
   "display_name": "Python 3",
   "language": "python",
   "name": "python3"
  },
  "language_info": {
   "codemirror_mode": {
    "name": "ipython",
    "version": 3
   },
   "file_extension": ".py",
   "mimetype": "text/x-python",
   "name": "python",
   "nbconvert_exporter": "python",
   "pygments_lexer": "ipython3",
   "version": "3.7.0"
  },
  "orig_nbformat": 4
 },
 "nbformat": 4,
 "nbformat_minor": 2
}
